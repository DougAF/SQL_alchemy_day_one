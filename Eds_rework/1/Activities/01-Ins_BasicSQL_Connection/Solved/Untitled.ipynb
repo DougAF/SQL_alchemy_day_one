{
 "cells": [
  {
   "cell_type": "code",
   "execution_count": 1,
   "metadata": {},
   "outputs": [
    {
     "ename": "SyntaxError",
     "evalue": "invalid syntax (<ipython-input-1-26bc1f0c92ac>, line 3)",
     "output_type": "error",
     "traceback": [
      "\u001b[1;36m  File \u001b[1;32m\"<ipython-input-1-26bc1f0c92ac>\"\u001b[1;36m, line \u001b[1;32m3\u001b[0m\n\u001b[1;33m    from sqlalchemy import create_engine, inspect`\u001b[0m\n\u001b[1;37m                                                 ^\u001b[0m\n\u001b[1;31mSyntaxError\u001b[0m\u001b[1;31m:\u001b[0m invalid syntax\n"
     ]
    }
   ],
   "source": [
    "import pandas as pd\n",
    "import os\n",
    "from sqlalchemy import create_engine, inspect`\n",
    "\n",
    "\n",
    "# schema = census_inspector.get_columns(\"Census_Data\")\n",
    "# # print(schema)\n",
    "# # print()\n",
    "# schema = zip_inspector.get_columns(\"Zip_Census\")\n",
    "# # print(schema)\n",
    "# # census_df = pd.read_sql_query(\"SELECT * FROM Census_Data\", con=census_engine)\n",
    "# # zip_df = pd.read_sql_query(\"SELECT * FROM Zip_Census\", con=zip_engine)\n",
    "# census_df = pd.read_sql_table(\"Census_Data\", con=census_engine)\n",
    "# zip_df = pd.read_sql_table(\"Zip_Census\", con=zip_engine)\n",
    "# # print(census_df)\n",
    "# # print(\"*\" * 50)\n",
    "# # print(zip_df)\n",
    "# df = pd.merge(census_df, zip_df, on=\"CityState\")\n",
    "# print(df)"
   ]
  },
  {
   "cell_type": "code",
   "execution_count": null,
   "metadata": {},
   "outputs": [],
   "source": [
    "census_db_path = os.path.join(\"..\", \"Resources\", \"Census_Data.sqlite\")\n",
    "zip_db_path = obs.path.join(\"..\", \"Resources\", \"Zip_Census.sqlite\")"
   ]
  },
  {
   "cell_type": "code",
   "execution_count": null,
   "metadata": {},
   "outputs": [],
   "source": [
    "census_engine = create_engine(f\"sqlite:///{census_db_path}\")\n",
    "zip_engine = create_enginbe(f\"sqlite:///{zip_db_path}\")"
   ]
  },
  {
   "cell_type": "code",
   "execution_count": null,
   "metadata": {},
   "outputs": [],
   "source": [
    "census_inspector = inspect(census_engine)\n",
    "zip_inspector = inspect(zip_engine)"
   ]
  },
  {
   "cell_type": "code",
   "execution_count": null,
   "metadata": {},
   "outputs": [],
   "source": [
    "table_names = census_inspector.get_table_names()\n",
    "print(table_names)"
   ]
  },
  {
   "cell_type": "code",
   "execution_count": null,
   "metadata": {},
   "outputs": [],
   "source": [
    "table_names = zip_inspector.get_table_names()\n",
    "\n",
    "print(table_names)"
   ]
  }
 ],
 "metadata": {
  "kernelspec": {
   "display_name": "Python 3",
   "language": "python",
   "name": "python3"
  },
  "language_info": {
   "codemirror_mode": {
    "name": "ipython",
    "version": 3
   },
   "file_extension": ".py",
   "mimetype": "text/x-python",
   "name": "python",
   "nbconvert_exporter": "python",
   "pygments_lexer": "ipython3",
   "version": "3.7.4"
  }
 },
 "nbformat": 4,
 "nbformat_minor": 2
}
